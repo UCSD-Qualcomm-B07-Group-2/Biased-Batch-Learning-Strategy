{
 "cells": [
  {
   "cell_type": "code",
   "execution_count": 1,
   "id": "8fb0fbc3",
   "metadata": {},
   "outputs": [],
   "source": [
    "import gzip\n",
    "import json\n",
    "import networkx as nx\n",
    "import matplotlib.pyplot as plt\n",
    "import numpy as np\n",
    "import pandas as pd\n",
    "from scipy.sparse import coo_matrix\n",
    "from scipy.sparse import lil_matrix\n",
    "from torch_geometric.utils.convert import from_scipy_sparse_matrix\n",
    "import torch\n",
    "from pandas import json_normalize\n",
    "from IPython.display import display"
   ]
  },
  {
   "cell_type": "code",
   "execution_count": 2,
   "id": "7552095c",
   "metadata": {},
   "outputs": [
    {
     "name": "stdout",
     "output_type": "stream",
     "text": [
      "False\n"
     ]
    }
   ],
   "source": [
    "print(torch.cuda.is_available())\n",
    "device = torch.device('cuda')"
   ]
  },
  {
   "cell_type": "code",
   "execution_count": 3,
   "id": "507f493e",
   "metadata": {},
   "outputs": [],
   "source": [
    "with gzip.open('../data/RosettaStone-GraphData-2023-09-22/superblue1/1/superblue1.json.gz','rb') as f:\n",
    "    design = json.loads(f.read().decode('utf-8'))\n",
    "    \n",
    "instances = pd.DataFrame(design['instances'])\n",
    "nets = pd.DataFrame(design['nets'])\n",
    "\n",
    "conn=np.load('../data/RosettaStone-GraphData-2023-09-22/superblue1/superblue1_connectivity.npz')\n",
    "A = coo_matrix((conn['data'], (conn['row'], conn['col'])), shape=conn['shape'])\n",
    "\n",
    "with gzip.open('../data/RosettaStone-GraphData-2023-09-22/cells.json.gz', 'rb') as f:\n",
    "    cells_json = json.loads(f.read())\n",
    "cells = pd.DataFrame(cells_json).drop(columns=['name', 'width', 'height']).set_index('id')"
   ]
  },
  {
   "cell_type": "code",
   "execution_count": 4,
   "id": "b938ab04",
   "metadata": {},
   "outputs": [
    {
     "data": {
      "text/html": [
       "<div>\n",
       "<style scoped>\n",
       "    .dataframe tbody tr th:only-of-type {\n",
       "        vertical-align: middle;\n",
       "    }\n",
       "\n",
       "    .dataframe tbody tr th {\n",
       "        vertical-align: top;\n",
       "    }\n",
       "\n",
       "    .dataframe thead th {\n",
       "        text-align: right;\n",
       "    }\n",
       "</style>\n",
       "<table border=\"1\" class=\"dataframe\">\n",
       "  <thead>\n",
       "    <tr style=\"text-align: right;\">\n",
       "      <th></th>\n",
       "      <th>terms</th>\n",
       "    </tr>\n",
       "    <tr>\n",
       "      <th>id</th>\n",
       "      <th></th>\n",
       "    </tr>\n",
       "  </thead>\n",
       "  <tbody>\n",
       "    <tr>\n",
       "      <th>0</th>\n",
       "      <td>name  id  dir  xloc  yloc\n",
       "0     A   1    0 ...</td>\n",
       "    </tr>\n",
       "    <tr>\n",
       "      <th>1</th>\n",
       "      <td>name  id  dir  xloc  yloc\n",
       "0     A   1    0 ...</td>\n",
       "    </tr>\n",
       "    <tr>\n",
       "      <th>2</th>\n",
       "      <td>name  id  dir  xloc  yloc\n",
       "0     A   1    0 ...</td>\n",
       "    </tr>\n",
       "    <tr>\n",
       "      <th>3</th>\n",
       "      <td>name  id  dir   xloc  yloc\n",
       "0     D   1    0...</td>\n",
       "    </tr>\n",
       "    <tr>\n",
       "      <th>4</th>\n",
       "      <td>name  id  dir  xloc  yloc\n",
       "0     A   1    0 ...</td>\n",
       "    </tr>\n",
       "    <tr>\n",
       "      <th>...</th>\n",
       "      <td>...</td>\n",
       "    </tr>\n",
       "    <tr>\n",
       "      <th>30131</th>\n",
       "      <td>Empty DataFrame\n",
       "Columns: []\n",
       "Index: []</td>\n",
       "    </tr>\n",
       "    <tr>\n",
       "      <th>30132</th>\n",
       "      <td>Empty DataFrame\n",
       "Columns: []\n",
       "Index: []</td>\n",
       "    </tr>\n",
       "    <tr>\n",
       "      <th>30133</th>\n",
       "      <td>Empty DataFrame\n",
       "Columns: []\n",
       "Index: []</td>\n",
       "    </tr>\n",
       "    <tr>\n",
       "      <th>30134</th>\n",
       "      <td>Empty DataFrame\n",
       "Columns: []\n",
       "Index: []</td>\n",
       "    </tr>\n",
       "    <tr>\n",
       "      <th>30135</th>\n",
       "      <td>Empty DataFrame\n",
       "Columns: []\n",
       "Index: []</td>\n",
       "    </tr>\n",
       "  </tbody>\n",
       "</table>\n",
       "<p>30136 rows × 1 columns</p>\n",
       "</div>"
      ],
      "text/plain": [
       "                                                   terms\n",
       "id                                                      \n",
       "0         name  id  dir  xloc  yloc\n",
       "0     A   1    0 ...\n",
       "1         name  id  dir  xloc  yloc\n",
       "0     A   1    0 ...\n",
       "2         name  id  dir  xloc  yloc\n",
       "0     A   1    0 ...\n",
       "3         name  id  dir   xloc  yloc\n",
       "0     D   1    0...\n",
       "4         name  id  dir  xloc  yloc\n",
       "0     A   1    0 ...\n",
       "...                                                  ...\n",
       "30131              Empty DataFrame\n",
       "Columns: []\n",
       "Index: []\n",
       "30132              Empty DataFrame\n",
       "Columns: []\n",
       "Index: []\n",
       "30133              Empty DataFrame\n",
       "Columns: []\n",
       "Index: []\n",
       "30134              Empty DataFrame\n",
       "Columns: []\n",
       "Index: []\n",
       "30135              Empty DataFrame\n",
       "Columns: []\n",
       "Index: []\n",
       "\n",
       "[30136 rows x 1 columns]"
      ]
     },
     "execution_count": 4,
     "metadata": {},
     "output_type": "execute_result"
    }
   ],
   "source": [
    "cells['terms'] = cells['terms'].apply(lambda x: pd.DataFrame(x))\n",
    "cells"
   ]
  },
  {
   "cell_type": "code",
   "execution_count": 5,
   "id": "7563c5ce",
   "metadata": {},
   "outputs": [
    {
     "data": {
      "text/html": [
       "<div>\n",
       "<style scoped>\n",
       "    .dataframe tbody tr th:only-of-type {\n",
       "        vertical-align: middle;\n",
       "    }\n",
       "\n",
       "    .dataframe tbody tr th {\n",
       "        vertical-align: top;\n",
       "    }\n",
       "\n",
       "    .dataframe thead th {\n",
       "        text-align: right;\n",
       "    }\n",
       "</style>\n",
       "<table border=\"1\" class=\"dataframe\">\n",
       "  <thead>\n",
       "    <tr style=\"text-align: right;\">\n",
       "      <th></th>\n",
       "      <th>name</th>\n",
       "      <th>id</th>\n",
       "      <th>xloc</th>\n",
       "      <th>yloc</th>\n",
       "      <th>cell</th>\n",
       "      <th>orient</th>\n",
       "    </tr>\n",
       "  </thead>\n",
       "  <tbody>\n",
       "    <tr>\n",
       "      <th>0</th>\n",
       "      <td>o0</td>\n",
       "      <td>0</td>\n",
       "      <td>3567360</td>\n",
       "      <td>5044950</td>\n",
       "      <td>132</td>\n",
       "      <td>0</td>\n",
       "    </tr>\n",
       "    <tr>\n",
       "      <th>1</th>\n",
       "      <td>o1</td>\n",
       "      <td>1</td>\n",
       "      <td>2863200</td>\n",
       "      <td>5351310</td>\n",
       "      <td>359</td>\n",
       "      <td>6</td>\n",
       "    </tr>\n",
       "    <tr>\n",
       "      <th>2</th>\n",
       "      <td>o10</td>\n",
       "      <td>2</td>\n",
       "      <td>2846400</td>\n",
       "      <td>5351310</td>\n",
       "      <td>176</td>\n",
       "      <td>0</td>\n",
       "    </tr>\n",
       "    <tr>\n",
       "      <th>3</th>\n",
       "      <td>o100</td>\n",
       "      <td>3</td>\n",
       "      <td>2508000</td>\n",
       "      <td>5744250</td>\n",
       "      <td>224</td>\n",
       "      <td>0</td>\n",
       "    </tr>\n",
       "    <tr>\n",
       "      <th>4</th>\n",
       "      <td>o1000</td>\n",
       "      <td>4</td>\n",
       "      <td>2479680</td>\n",
       "      <td>5757570</td>\n",
       "      <td>360</td>\n",
       "      <td>0</td>\n",
       "    </tr>\n",
       "  </tbody>\n",
       "</table>\n",
       "</div>"
      ],
      "text/plain": [
       "    name  id     xloc     yloc  cell  orient\n",
       "0     o0   0  3567360  5044950   132       0\n",
       "1     o1   1  2863200  5351310   359       6\n",
       "2    o10   2  2846400  5351310   176       0\n",
       "3   o100   3  2508000  5744250   224       0\n",
       "4  o1000   4  2479680  5757570   360       0"
      ]
     },
     "execution_count": 5,
     "metadata": {},
     "output_type": "execute_result"
    }
   ],
   "source": [
    "instances.head()"
   ]
  },
  {
   "cell_type": "code",
   "execution_count": 6,
   "id": "bfe2cf6f",
   "metadata": {},
   "outputs": [
    {
     "name": "stderr",
     "output_type": "stream",
     "text": [
      "/var/folders/6b/6xx67mh125s3q_lscfz571ym0000gn/T/ipykernel_10188/825442066.py:2: UserWarning: Creating a tensor from a list of numpy.ndarrays is extremely slow. Please consider converting the list to a single numpy.ndarray with numpy.array() before converting to a tensor. (Triggered internally at /Users/runner/work/pytorch/pytorch/pytorch/torch/csrc/utils/tensor_new.cpp:264.)\n",
      "  torch.FloatTensor([A.row, A.col]),\n"
     ]
    }
   ],
   "source": [
    "A_tensor = torch.sparse_coo_tensor(\n",
    "    torch.FloatTensor([A.row, A.col]),\n",
    "    torch.Tensor(A.data)\n",
    ").coalesce()\n",
    "#A_tensor.to(device)"
   ]
  },
  {
   "cell_type": "code",
   "execution_count": 7,
   "id": "9bdf43a2",
   "metadata": {},
   "outputs": [],
   "source": [
    "bad = []\n",
    "global bad"
   ]
  },
  {
   "cell_type": "code",
   "execution_count": 8,
   "id": "da027fe7",
   "metadata": {},
   "outputs": [],
   "source": [
    "def direct(c, val):\n",
    "    '''\n",
    "    params:\n",
    "    c: column index / terminal\n",
    "    val: tensor value for lookup\n",
    "    '''\n",
    "    current_cell = cells['terms'][instances.iloc[c]['cell']]\n",
    "    \n",
    "    if val > current_cell.shape[0] - 1:\n",
    "        bad.append((c, val))\n",
    "        \n",
    "    direction = current_cell.iloc[min(val, current_cell.shape[0] - 1)]['dir']\n",
    "    if direction == 1:\n",
    "        return 0\n",
    "    return 1"
   ]
  },
  {
   "cell_type": "code",
   "execution_count": 9,
   "id": "2ba00f13",
   "metadata": {
    "scrolled": true
   },
   "outputs": [],
   "source": [
    "# A_tensor.indices()[1] is columns of terminal matrix, or gates\n",
    "indices = A_tensor.indices()\n",
    "terminal_values = (A_tensor.values()).clone().detach()\n",
    "gate_indices = indices[0]"
   ]
  },
  {
   "cell_type": "code",
   "execution_count": 10,
   "id": "33ba1dc1",
   "metadata": {},
   "outputs": [],
   "source": [
    "out = lil_matrix((A_tensor.values().shape[0], 1))"
   ]
  },
  {
   "cell_type": "code",
   "execution_count": 11,
   "id": "ab5548bd",
   "metadata": {},
   "outputs": [],
   "source": [
    "i = 0\n",
    "for gate_index, val_i in zip(gate_indices, range(terminal_values.shape[0])):\n",
    "#     if i % 196595 == 0:\n",
    "#         print(i)\n",
    "   # i += 1\n",
    "    out[val_i] = direct(c=int(gate_index.item()), val=int(terminal_values[val_i].item()) - 1)"
   ]
  },
  {
   "cell_type": "code",
   "execution_count": 12,
   "id": "353fc3b8",
   "metadata": {},
   "outputs": [
    {
     "data": {
      "text/plain": [
       "[2, 1, 3, 1, 3, 3, 3, 3, 3, 1]"
      ]
     },
     "execution_count": 12,
     "metadata": {},
     "output_type": "execute_result"
    }
   ],
   "source": [
    "differences = []\n",
    "for b in bad:\n",
    "    diff = b[1] - (cells['terms'][instances.iloc[b[0]]['cell']].shape[0] - 1) # .iloc[b[1]]['dir']\n",
    "    differences.append(diff)\n",
    "differences[0:10]"
   ]
  },
  {
   "cell_type": "code",
   "execution_count": 101,
   "id": "3c8d3441",
   "metadata": {},
   "outputs": [],
   "source": [
    "out_tensor = torch.tensor(out.T.toarray())[0]"
   ]
  },
  {
   "cell_type": "code",
   "execution_count": 105,
   "id": "775589cd",
   "metadata": {},
   "outputs": [
    {
     "data": {
      "text/plain": [
       "tensor([1., 1., 1.,  ..., 1., 1., 0.], dtype=torch.float64)"
      ]
     },
     "execution_count": 105,
     "metadata": {},
     "output_type": "execute_result"
    }
   ],
   "source": [
    "out_tensor"
   ]
  },
  {
   "cell_type": "code",
   "execution_count": 106,
   "id": "2e16045a",
   "metadata": {},
   "outputs": [
    {
     "data": {
      "text/plain": [
       "tensor([1., 1., 1.,  ..., 1., 1., 0.])"
      ]
     },
     "execution_count": 106,
     "metadata": {},
     "output_type": "execute_result"
    }
   ],
   "source": [
    "A_tensor.values().copy_(out_tensor)"
   ]
  },
  {
   "cell_type": "code",
   "execution_count": 109,
   "id": "3dadd731",
   "metadata": {},
   "outputs": [
    {
     "data": {
      "text/plain": [
       "tensor(indices=tensor([[     0,      0,      0,  ..., 797937, 797937, 797937],\n",
       "                       [613721, 613832, 613943,  ...,      0, 756354, 822927]]),\n",
       "       values=tensor([1., 1., 1.,  ..., 1., 1., 0.]),\n",
       "       size=(797938, 823024), nnz=2948927, layout=torch.sparse_coo)"
      ]
     },
     "execution_count": 109,
     "metadata": {},
     "output_type": "execute_result"
    }
   ],
   "source": [
    " A_tensor"
   ]
  },
  {
   "cell_type": "code",
   "execution_count": null,
   "id": "16fe4227",
   "metadata": {},
   "outputs": [],
   "source": [
    "A = torch.sparse.mm(A_tensor, A_tensor.T)"
   ]
  },
  {
   "cell_type": "code",
   "execution_count": null,
   "id": "8e23586a",
   "metadata": {},
   "outputs": [],
   "source": [
    "A"
   ]
  }
 ],
 "metadata": {
  "kernelspec": {
   "display_name": "Python 3 (ipykernel)",
   "language": "python",
   "name": "python3"
  },
  "language_info": {
   "codemirror_mode": {
    "name": "ipython",
    "version": 3
   },
   "file_extension": ".py",
   "mimetype": "text/x-python",
   "name": "python",
   "nbconvert_exporter": "python",
   "pygments_lexer": "ipython3",
   "version": "3.11.5"
  }
 },
 "nbformat": 4,
 "nbformat_minor": 5
}
