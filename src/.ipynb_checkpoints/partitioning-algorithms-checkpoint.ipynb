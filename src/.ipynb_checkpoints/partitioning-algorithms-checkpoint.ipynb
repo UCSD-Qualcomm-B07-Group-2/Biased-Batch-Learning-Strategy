{
 "cells": [
  {
   "cell_type": "code",
   "execution_count": 29,
   "metadata": {},
   "outputs": [],
   "source": [
    "import networkx as nx\n",
    "import random\n",
    "import numpy as np\n",
    "import pandas as pd"
   ]
  },
  {
   "cell_type": "code",
   "execution_count": 2,
   "metadata": {},
   "outputs": [],
   "source": [
    "def mincut_maxflow(G):\n",
    "    return ... #G.minimum_cut()"
   ]
  },
  {
   "cell_type": "code",
   "execution_count": 3,
   "metadata": {},
   "outputs": [],
   "source": [
    "def KL(G):\n",
    "    return G.kernighan_lin_bisection(G, max_iter=100)"
   ]
  },
  {
   "cell_type": "code",
   "execution_count": 4,
   "metadata": {},
   "outputs": [],
   "source": [
    "# testing KL"
   ]
  },
  {
   "cell_type": "code",
   "execution_count": 5,
   "metadata": {},
   "outputs": [],
   "source": [
    "# Helper functions for FM algorithm\n",
    "def initialize_multiple_partitions(G, k):\n",
    "    nodes = list(G.nodes())\n",
    "    random.shuffle(nodes)\n",
    "    partition = {node: i % k for i, node in enumerate(nodes)}\n",
    "    return partition\n",
    "\n",
    "def calculate_gain(G, node, partition):\n",
    "    same_partition_edges = sum(1 for neighbor in G.neighbors(node) if partition[neighbor] == partition[node])\n",
    "    different_partition_edges = G.degree(node) - same_partition_edges\n",
    "    return different_partition_edges - same_partition_edges\n",
    "\n",
    "def calculate_cut_size(G, partition):\n",
    "    return sum(1 for edge in G.edges() if partition[edge[0]] != partition[edge[1]])\n"
   ]
  },
  {
   "cell_type": "code",
   "execution_count": 42,
   "metadata": {},
   "outputs": [],
   "source": [
    "# one iteration of FM algorithm\n",
    "def FM(G, partition, i):\n",
    "    # create subgraph from focus partition i\n",
    "    subgraph_nodes = [node for node in G.nodes() if partition[node] == i]\n",
    "    subgraph = G.subgraph(subgraph_nodes)\n",
    "\n",
    "    sub_partition = {node: 0 if i < len(subgraph_nodes) / 2 else 1 for i, node in enumerate(subgraph_nodes)}\n",
    "    improved = True\n",
    "    while improved:\n",
    "        improved = False\n",
    "        for node in subgraph_nodes:\n",
    "            # calculate gain, decide if moving node to other partition improves cut size\n",
    "            current_cut_size = calculate_cut_size(subgraph, sub_partition)\n",
    "            sub_partition[node] = 1 - sub_partition[node]  # Move node to other sub-partition\n",
    "            new_cut_size = calculate_cut_size(subgraph, sub_partition)\n",
    "            if new_cut_size < current_cut_size:\n",
    "                improved = True  # improvement found, keep the node in the new partition\n",
    "            else:\n",
    "                sub_partition[node] = 1 - sub_partition[node]  # Move node back\n",
    "\n",
    "    # update original partition based on results of subgraph partitioning\n",
    "    for node in subgraph_nodes:\n",
    "        partition[node] = i if sub_partition[node] == 0 else i + 1"
   ]
  },
  {
   "cell_type": "code",
   "execution_count": 166,
   "metadata": {},
   "outputs": [],
   "source": [
    "import matplotlib.pyplot as plt"
   ]
  },
  {
   "cell_type": "code",
   "execution_count": 206,
   "metadata": {},
   "outputs": [],
   "source": [
    "def multiple_partition_FM(G, k):\n",
    "    partition = initialize_multiple_partitions(G, k)\n",
    "    for i in range(k - 1):\n",
    "        FM(G, partition, i)\n",
    "\n",
    "    return partition"
   ]
  },
  {
   "cell_type": "code",
   "execution_count": 208,
   "metadata": {},
   "outputs": [],
   "source": [
    "G = nx.gnm_random_graph(100, 200) # Random graph with 10 nodes and 20 edges\n",
    "# num partitions\n",
    "k=3\n",
    "partition_result = multiple_partition_FM(G, k)"
   ]
  },
  {
   "cell_type": "code",
   "execution_count": 209,
   "metadata": {},
   "outputs": [
    {
     "data": {
      "text/html": [
       "<div>\n",
       "<style scoped>\n",
       "    .dataframe tbody tr th:only-of-type {\n",
       "        vertical-align: middle;\n",
       "    }\n",
       "\n",
       "    .dataframe tbody tr th {\n",
       "        vertical-align: top;\n",
       "    }\n",
       "\n",
       "    .dataframe thead th {\n",
       "        text-align: right;\n",
       "    }\n",
       "</style>\n",
       "<table border=\"1\" class=\"dataframe\">\n",
       "  <thead>\n",
       "    <tr style=\"text-align: right;\">\n",
       "      <th></th>\n",
       "      <th>index</th>\n",
       "    </tr>\n",
       "    <tr>\n",
       "      <th>0</th>\n",
       "      <th></th>\n",
       "    </tr>\n",
       "  </thead>\n",
       "  <tbody>\n",
       "    <tr>\n",
       "      <th>0</th>\n",
       "      <td>11</td>\n",
       "    </tr>\n",
       "    <tr>\n",
       "      <th>1</th>\n",
       "      <td>11</td>\n",
       "    </tr>\n",
       "    <tr>\n",
       "      <th>2</th>\n",
       "      <td>78</td>\n",
       "    </tr>\n",
       "  </tbody>\n",
       "</table>\n",
       "</div>"
      ],
      "text/plain": [
       "   index\n",
       "0       \n",
       "0     11\n",
       "1     11\n",
       "2     78"
      ]
     },
     "execution_count": 209,
     "metadata": {},
     "output_type": "execute_result"
    }
   ],
   "source": [
    "# view partition distribution results\n",
    "pd.DataFrame(pd.Series(partition_result).reset_index()).groupby(0).count()"
   ]
  },
  {
   "cell_type": "code",
   "execution_count": null,
   "metadata": {},
   "outputs": [],
   "source": []
  }
 ],
 "metadata": {
  "kernelspec": {
   "display_name": "Python 3 (ipykernel)",
   "language": "python",
   "name": "python3"
  },
  "language_info": {
   "codemirror_mode": {
    "name": "ipython",
    "version": 3
   },
   "file_extension": ".py",
   "mimetype": "text/x-python",
   "name": "python",
   "nbconvert_exporter": "python",
   "pygments_lexer": "ipython3",
   "version": "3.11.5"
  }
 },
 "nbformat": 4,
 "nbformat_minor": 2
}
