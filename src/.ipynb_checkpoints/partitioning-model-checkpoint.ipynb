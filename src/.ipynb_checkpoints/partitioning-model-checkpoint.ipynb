{
 "cells": [
  {
   "cell_type": "code",
   "execution_count": null,
   "metadata": {},
   "outputs": [],
   "source": [
    "import gzip\n",
    "import json\n",
    "import pandas as pd\n",
    "import numpy as np\n",
    "from scipy.sparse import coo_matrix\n",
    "from torch_geometric.utils.convert import from_scipy_sparse_matrix\n",
    "from torch_geometric.data import Data\n",
    "from torch_geometric.transforms import RandomNodeSplit\n",
    "\n",
    "import torch\n",
    "import torch.nn as nn\n",
    "import torch.nn.functional as F\n",
    "import torch_geometric\n",
    "from torch_geometric.nn import GCNConv \n",
    "import torch.optim as optim\n",
    "\n",
    "import matplotlib.pyplot as plt\n",
    "from tqdm import tqdm"
   ]
  },
  {
   "cell_type": "code",
   "execution_count": null,
   "metadata": {},
   "outputs": [],
   "source": [
    "class self_partitioning(nn.Module):\n",
    "    def __init__(self, hidden_dim, hidden_layers, first_partition):\n",
    "        super().__init__()\n",
    "        self.conv1 = GCNConv(4, hidden_dim)\n",
    "        self.hidden = nn.ModuleList([GCNConv(hidden_dim, hidden_dim) for _ in range(hidden_layers)])\n",
    "        self.linear = nn.Linear(hidden_dim, 1)\n",
    "        \n",
    "        self.attention = nn.Linear(2 * hidden_dim, 1)\n",
    "        self.softmax = nn.Softmax(dim=1)\n",
    "        \n",
    "    def forward(self, x, edge_index):\n",
    "        x = F.relu(self.conv1(x, edge_index))\n",
    "        # concat then linear\n",
    "        attention_weights = torch.cat((x, x), dim=1)\n",
    "        attention_weights = self.attention(attention_weights)\n",
    "        attention_weights = self.softmax(attention_weights)\n",
    "        x = x * attention_weights\n",
    "    \n",
    "        for layer in self.hidden:\n",
    "            x = layer(x, edge_index)\n",
    "            x = F.relu(x)\n",
    "        \n",
    "        x = self.linear(x)\n",
    "        \n",
    "        return x"
   ]
  }
 ],
 "metadata": {
  "kernelspec": {
   "display_name": "Python 3 (ipykernel)",
   "language": "python",
   "name": "python3"
  },
  "language_info": {
   "codemirror_mode": {
    "name": "ipython",
    "version": 3
   },
   "file_extension": ".py",
   "mimetype": "text/x-python",
   "name": "python",
   "nbconvert_exporter": "python",
   "pygments_lexer": "ipython3",
   "version": "3.11.5"
  }
 },
 "nbformat": 4,
 "nbformat_minor": 2
}
