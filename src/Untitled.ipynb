{
 "cells": [
  {
   "cell_type": "code",
   "execution_count": 1,
   "id": "e9561a85-6d1b-405f-845f-abba6dd676a1",
   "metadata": {},
   "outputs": [
    {
     "name": "stderr",
     "output_type": "stream",
     "text": [
      "C:\\Users\\spenc\\AppData\\Local\\Temp\\ipykernel_39016\\3134570862.py:3: DeprecationWarning: \n",
      "Pyarrow will become a required dependency of pandas in the next major release of pandas (pandas 3.0),\n",
      "(to allow more performant data types, such as the Arrow string type, and better interoperability with other libraries)\n",
      "but was not found to be installed on your system.\n",
      "If this would cause problems for you,\n",
      "please provide us feedback at https://github.com/pandas-dev/pandas/issues/54466\n",
      "        \n",
      "  import pandas as pd\n"
     ]
    }
   ],
   "source": [
    "import gzip\n",
    "import json\n",
    "import pandas as pd\n",
    "import numpy as np\n",
    "from scipy.sparse import coo_matrix\n",
    "import torch\n",
    "from torch_geometric.data import Data\n",
    "from torch_geometric.utils import from_scipy_sparse_matrix\n",
    "from torch_geometric.transforms import RandomNodeSplit\n",
    "from sklearn.model_selection import train_test_split\n",
    "from torch_geometric.nn import GCNConv\n",
    "from torch.nn import Linear, ModuleList\n",
    "import torch.nn.functional as F\n",
    "from torch.optim import Adam\n",
    "from sklearn.ensemble import RandomForestRegressor\n",
    "from sklearn.metrics import mean_squared_error, r2_score"
   ]
  },
  {
   "cell_type": "code",
   "execution_count": 81,
   "id": "70e586c2",
   "metadata": {},
   "outputs": [
    {
     "data": {
      "text/plain": [
       "(tensor([[   0,    0,    0,  ..., 3950, 3951, 3951],\n",
       "         [1526, 1535, 4481,  ..., 4481,    0, 4481]]),\n",
       " array([3951,  492,  941, ...,    2,    1,    0], dtype=int64),\n",
       " array([3951,  492,  941, ...,    2,    1,    0], dtype=int64))"
      ]
     },
     "execution_count": 81,
     "metadata": {},
     "output_type": "execute_result"
    }
   ],
   "source": [
    "import gzip\n",
    "\n",
    "\n",
    "superblue = '../data/superblue18/1/superblue18.json.gz'\n",
    "xbar = '../data/xbar/1/xbar.json.gz'\n",
    "\n",
    "superblue_conn = '../data/superblue18/1/superblue18_connectivity.npz'\n",
    "xbar_conn = '../data/xbar/1/xbar_connectivity.npz'\n",
    "\n",
    "with gzip.open(xbar,'rb') as f:\n",
    "    design = json.loads(f.read().decode('utf-8'))\n",
    "\n",
    "instances = pd.DataFrame(design['instances'])\n",
    "nets = pd.DataFrame(design['nets'])\n",
    "conn=np.load(xbar_conn)\n",
    "\n",
    "import torch\n",
    "\n",
    "def coo_to_edge_index(coo_matrix):\n",
    "    # Extract row indices (source nodes) and column indices (destination nodes)\n",
    "    row_indices = torch.tensor(coo_matrix.row, dtype=torch.long)\n",
    "    col_indices = torch.tensor(coo_matrix.col, dtype=torch.long)\n",
    "\n",
    "    # Create edge_index tensor\n",
    "    edge_index = torch.stack([row_indices, col_indices], dim=0)\n",
    "\n",
    "    return edge_index\n",
    "\n",
    "coo_matrix = torch.sparse_coo_tensor(indices=torch.tensor([conn['row'], conn['col']], dtype=torch.long),\n",
    "                                      values=torch.tensor(conn['data'], dtype=torch.float))\n",
    "\n",
    "coo_matrix.coalesce(), conn['row'], conn['row']\n"
   ]
  },
  {
   "cell_type": "code",
   "execution_count": 53,
   "id": "b2772233",
   "metadata": {},
   "outputs": [],
   "source": [
    "instances = pd.DataFrame(design['instances'])\n",
    "nets = pd.DataFrame(design['nets'])\n",
    "conn=np.load('../data/superblue18/1/superblue18_connectivity.npz')"
   ]
  },
  {
   "cell_type": "code",
   "execution_count": 68,
   "id": "097a13cb",
   "metadata": {},
   "outputs": [
    {
     "ename": "TypeError",
     "evalue": "'Tensor' object is not callable",
     "output_type": "error",
     "traceback": [
      "\u001b[1;31m---------------------------------------------------------------------------\u001b[0m",
      "\u001b[1;31mTypeError\u001b[0m                                 Traceback (most recent call last)",
      "Cell \u001b[1;32mIn[68], line 1\u001b[0m\n\u001b[1;32m----> 1\u001b[0m A \u001b[38;5;241m=\u001b[39m \u001b[43mcoo_matrix\u001b[49m\u001b[43m(\u001b[49m\u001b[43m(\u001b[49m\u001b[43mconn\u001b[49m\u001b[43m[\u001b[49m\u001b[38;5;124;43m'\u001b[39;49m\u001b[38;5;124;43mdata\u001b[39;49m\u001b[38;5;124;43m'\u001b[39;49m\u001b[43m]\u001b[49m\u001b[43m,\u001b[49m\u001b[43m \u001b[49m\u001b[43m(\u001b[49m\u001b[43mconn\u001b[49m\u001b[43m[\u001b[49m\u001b[38;5;124;43m'\u001b[39;49m\u001b[38;5;124;43mrow\u001b[39;49m\u001b[38;5;124;43m'\u001b[39;49m\u001b[43m]\u001b[49m\u001b[43m,\u001b[49m\u001b[43m \u001b[49m\u001b[43mconn\u001b[49m\u001b[43m[\u001b[49m\u001b[38;5;124;43m'\u001b[39;49m\u001b[38;5;124;43mcol\u001b[39;49m\u001b[38;5;124;43m'\u001b[39;49m\u001b[43m]\u001b[49m\u001b[43m)\u001b[49m\u001b[43m)\u001b[49m\u001b[43m,\u001b[49m\u001b[43m \u001b[49m\u001b[43mshape\u001b[49m\u001b[38;5;241;43m=\u001b[39;49m\u001b[43mconn\u001b[49m\u001b[43m[\u001b[49m\u001b[38;5;124;43m'\u001b[39;49m\u001b[38;5;124;43mshape\u001b[39;49m\u001b[38;5;124;43m'\u001b[39;49m\u001b[43m]\u001b[49m\u001b[43m)\u001b[49m\n",
      "\u001b[1;31mTypeError\u001b[0m: 'Tensor' object is not callable"
     ]
    }
   ],
   "source": [
    "A = coo_matrix((conn['data'], (conn['row'], conn['col'])), shape=conn['shape'])"
   ]
  },
  {
   "cell_type": "code",
   "execution_count": 63,
   "id": "13b48d42",
   "metadata": {},
   "outputs": [
    {
     "data": {
      "text/plain": [
       "(array([224439, 224440, 224441, ..., 502055, 398820, 502056], dtype=int64),\n",
       " array([     0,      0,      0, ..., 511405, 511406, 511406], dtype=int64))"
      ]
     },
     "execution_count": 63,
     "metadata": {},
     "output_type": "execute_result"
    }
   ],
   "source": [
    "conn['row'], conn['col']"
   ]
  },
  {
   "cell_type": "code",
   "execution_count": 73,
   "id": "5ab7da60",
   "metadata": {},
   "outputs": [
    {
     "data": {
      "text/plain": [
       "tensor([[     0,      0,      0,  ..., 502055, 502056, 502056],\n",
       "        [331449, 331560, 331671,  ..., 511405,   1550, 511406]])"
      ]
     },
     "execution_count": 73,
     "metadata": {},
     "output_type": "execute_result"
    }
   ],
   "source": [
    "import torch\n",
    "\n",
    "def coo_to_edge_index(coo_matrix):\n",
    "    # Extract row indices (source nodes) and column indices (destination nodes)\n",
    "    row_indices = torch.tensor(coo_matrix.row, dtype=torch.long)\n",
    "    col_indices = torch.tensor(coo_matrix.col, dtype=torch.long)\n",
    "\n",
    "    # Create edge_index tensor\n",
    "    edge_index = torch.stack([row_indices, col_indices], dim=0)\n",
    "\n",
    "    return edge_index\n",
    "\n",
    "coo_matrix = torch.sparse_coo_tensor(indices=torch.tensor([conn['row'], conn['col']], dtype=torch.long),\n",
    "                                      values=torch.tensor(conn['data'], dtype=torch.float))\n",
    "\n",
    "coo_matrix.coalesce().indices()\n",
    "# print(edge_index)"
   ]
  },
  {
   "cell_type": "code",
   "execution_count": 17,
   "id": "454bd5c4-00fc-45af-8c10-955f2924a35d",
   "metadata": {},
   "outputs": [],
   "source": [
    "with gzip.open('../data/xbar/1/xbar.json.gz','rb') as f:\n",
    "    design = json.loads(f.read().decode('utf-8'))\n",
    "\n",
    "instances = pd.DataFrame(design['instances'])\n",
    "nets = pd.DataFrame(design['nets'])\n",
    "\n",
    "conn=np.load('../data/xbar/1/xbar_connectivity.npz')\n",
    "A = coo_matrix((conn['data'], (conn['row'], conn['col'])), shape=conn['shape'])\n",
    "A = A.__mul__(A.T)\n",
    "def buildBST(array,start=0,finish=-1):\n",
    "    if finish<0:\n",
    "        finish = len(array)\n",
    "    mid = (start + finish) // 2\n",
    "    if mid-start==1:\n",
    "        ltl=start\n",
    "    else:\n",
    "        ltl=buildBST(array,start,mid)\n",
    "    \n",
    "    if finish-mid==1:\n",
    "        gtl=mid\n",
    "    else:\n",
    "        gtl=buildBST(array,mid,finish)\n",
    "        \n",
    "    return((array[mid],ltl,gtl))\n",
    "\n",
    "congestion_data = np.load('../data/xbar/1/xbar_congestion.npz')\n",
    "xbst=buildBST(congestion_data['xBoundaryList'])\n",
    "ybst=buildBST(congestion_data['yBoundaryList'])\n",
    "demand = np.zeros(shape = [instances.shape[0],])\n",
    "\n",
    "def getGRCIndex(x,y,xbst,ybst):\n",
    "    while (type(xbst)==tuple):\n",
    "        if x < xbst[0]:\n",
    "            xbst=xbst[1]\n",
    "        else:\n",
    "            xbst=xbst[2]\n",
    "            \n",
    "    while (type(ybst)==tuple):\n",
    "        if y < ybst[0]:\n",
    "            ybst=ybst[1]\n",
    "        else:\n",
    "            ybst=ybst[2]\n",
    "            \n",
    "    return ybst, xbst\n",
    "\n",
    "grc_counts = {}\n",
    "for k in range(instances.shape[0]):\n",
    "    # print(k)\n",
    "    xloc = instances.iloc[k]['xloc']; yloc = instances.iloc[k]['yloc']\n",
    "    i,j=getGRCIndex(xloc,yloc,xbst,ybst)\n",
    "    grc_counts[(i, j)] = grc_counts.get((i, j), 0) + 1\n",
    "\n",
    "    d = 0 \n",
    "    for l in list(congestion_data['layerList']): \n",
    "        lyr=list(congestion_data['layerList']).index(l)\n",
    "        d += congestion_data['demand'][lyr][i][j]\n",
    "    demand[k] = d\n",
    "        \n",
    "instances['routing_demand'] = demand"
   ]
  },
  {
   "cell_type": "code",
   "execution_count": 18,
   "id": "d40b8f47",
   "metadata": {},
   "outputs": [],
   "source": [
    "grc_counts_list = []\n",
    "\n",
    "for k in range(instances.shape[0]):\n",
    "    # Get the location of the instance\n",
    "    xloc = instances.iloc[k]['xloc']\n",
    "    yloc = instances.iloc[k]['yloc']\n",
    "\n",
    "    # Get the GRC index of the instance\n",
    "    i, j = getGRCIndex(xloc, yloc, xbst, ybst)\n",
    "\n",
    "    # Get the count for the GRC index from the grc_counts dictionary\n",
    "    count = grc_counts.get((i, j), 0)\n",
    "\n",
    "    # Add the count to the list\n",
    "    grc_counts_list.append(count)\n",
    "\n",
    "# Add the list as a new column in the instances DataFrame\n",
    "instances['grc_count'] = grc_counts_list"
   ]
  },
  {
   "cell_type": "code",
   "execution_count": 27,
   "id": "da106b2d",
   "metadata": {},
   "outputs": [],
   "source": [
    "edge_index = from_scipy_sparse_matrix(A)\n",
    "import torch\n",
    "from torch_geometric.utils import degree"
   ]
  },
  {
   "cell_type": "code",
   "execution_count": 9,
   "id": "68b02b47",
   "metadata": {},
   "outputs": [],
   "source": [
    "import matplotlib.pyplot as plt"
   ]
  },
  {
   "cell_type": "code",
   "execution_count": 33,
   "id": "4330676d",
   "metadata": {},
   "outputs": [],
   "source": [
    "import networkx as nx\n",
    "G = nx.Graph(A)\n",
    "betweenness = nx.betweenness_centrality(G)\n",
    "clustering_coeff = nx.clustering(G)\n",
    "pagerank = nx.pagerank(G)\n",
    "eigenvector_centrality = nx.eigenvector_centrality_numpy(G)\n",
    "degree = np.array(A.sum(axis=1)).flatten()\n",
    "\n",
    "instances['betweenness'] = instances.index.map(betweenness)\n",
    "instances['clustering_coeff'] = instances.index.map(clustering_coeff)\n",
    "instances['pagerank'] = instances.index.map(pagerank)\n",
    "instances['eigenvector_centrality'] = instances.index.map(eigenvector_centrality)\n",
    "instances['degree'] = degree"
   ]
  },
  {
   "cell_type": "code",
   "execution_count": 37,
   "id": "fc0fab6f",
   "metadata": {},
   "outputs": [
    {
     "name": "stdout",
     "output_type": "stream",
     "text": [
      "                            xloc      yloc      cell    orient  grc_count  \\\n",
      "xloc                    1.000000 -0.024967  0.016961 -0.014932  -0.021522   \n",
      "yloc                   -0.024967  1.000000 -0.024458  0.025120   0.062736   \n",
      "cell                    0.016961 -0.024458  1.000000  0.010049  -0.028272   \n",
      "orient                 -0.014932  0.025120  0.010049  1.000000   0.003245   \n",
      "grc_count              -0.021522  0.062736 -0.028272  0.003245   1.000000   \n",
      "degree                  0.088868 -0.078620 -0.098379  0.012791  -0.223872   \n",
      "betweenness            -0.098728  0.105847 -0.056345 -0.024375   0.100231   \n",
      "clustering_coeff       -0.016262  0.027669 -0.066404 -0.009184  -0.103198   \n",
      "pagerank                0.060431 -0.063312 -0.094837  0.011862  -0.156450   \n",
      "eigenvector_centrality -0.074996  0.074052  0.075349 -0.006057   0.182369   \n",
      "routing_demand         -0.121477  0.115409 -0.227863 -0.015444   0.300263   \n",
      "\n",
      "                          degree  betweenness  clustering_coeff  pagerank  \\\n",
      "xloc                    0.088868    -0.098728         -0.016262  0.060431   \n",
      "yloc                   -0.078620     0.105847          0.027669 -0.063312   \n",
      "cell                   -0.098379    -0.056345         -0.066404 -0.094837   \n",
      "orient                  0.012791    -0.024375         -0.009184  0.011862   \n",
      "grc_count              -0.223872     0.100231         -0.103198 -0.156450   \n",
      "degree                  1.000000    -0.098294          0.551003  0.955691   \n",
      "betweenness            -0.098294     1.000000         -0.075306 -0.083659   \n",
      "clustering_coeff        0.551003    -0.075306          1.000000  0.415727   \n",
      "pagerank                0.955691    -0.083659          0.415727  1.000000   \n",
      "eigenvector_centrality  0.235289     0.295299          0.102834  0.326961   \n",
      "routing_demand         -0.146029     0.031492         -0.285598 -0.039287   \n",
      "\n",
      "                        eigenvector_centrality  routing_demand  \n",
      "xloc                                 -0.074996       -0.121477  \n",
      "yloc                                  0.074052        0.115409  \n",
      "cell                                  0.075349       -0.227863  \n",
      "orient                               -0.006057       -0.015444  \n",
      "grc_count                             0.182369        0.300263  \n",
      "degree                                0.235289       -0.146029  \n",
      "betweenness                           0.295299        0.031492  \n",
      "clustering_coeff                      0.102834       -0.285598  \n",
      "pagerank                              0.326961       -0.039287  \n",
      "eigenvector_centrality                1.000000        0.137451  \n",
      "routing_demand                        0.137451        1.000000  \n"
     ]
    },
    {
     "data": {
      "text/plain": [
       "<Axes: >"
      ]
     },
     "execution_count": 37,
     "metadata": {},
     "output_type": "execute_result"
    },
    {
     "data": {
      "image/png": "[encoded data removed]",
      "text/plain": [
       "<Figure size 640x480 with 1 Axes>"
      ]
     },
     "metadata": {},
     "output_type": "display_data"
    }
   ],
   "source": [
    "correlation_matrix = instances['orient','grc_count', 'degree', 'betweenness', 'clustering_coeff', 'pagerank', 'eigenvector_centrality', 'routing_demand']].corr()\n",
    "print(correlation_matrix)a\n",
    "instances['routing_demand'].hist()"
   ]
  },
  {
   "cell_type": "code",
   "execution_count": 5,
   "id": "f67a68e1-6443-47ff-9253-5726ca2df36b",
   "metadata": {},
   "outputs": [],
   "source": [
    "torch.manual_seed(42) # for replication\n",
    "device = torch.device(\"cuda\" if torch.cuda.is_available() else \"cpu\")\n",
    "X = torch.tensor(instances[['xloc', 'yloc', 'cell', 'orient']].values)\n",
    "y = torch.tensor(instances['routing_demand'].values)\n",
    "ei = from_scipy_sparse_matrix(A)\n",
    "edge_index = ei[0]\n",
    "data = Data(x=X, edge_index=edge_index, y=y)\n",
    "split = RandomNodeSplit(num_splits=1, num_val=0.0, num_test=0.3)\n",
    "split_data = split(data)\n",
    "train = torch.argwhere(split_data.train_mask).reshape(-1)\n",
    "test = torch.argwhere(split_data.test_mask).reshape(-1)\n",
    "train_mapping = {a.item():b for a,b in zip(train, range(train.shape[0]))}\n",
    "test_mapping = {a.item():b for a,b in zip(test, range(test.shape[0]))}\n",
    "X_train = split_data.x[split_data.train_mask].float()\n",
    "X_test = split_data.x[split_data.test_mask].float()\n",
    "y_train = split_data.y[split_data.train_mask].float()\n",
    "y_test = split_data.y[split_data.test_mask].float()\n",
    "edge_index_train = torch.tensor([train_mapping[i.item()] for i in edge_index[:,torch.argwhere(torch.all(torch.isin(edge_index, torch.argwhere(split_data.train_mask).reshape(-1)), dim=0)).reshape(-1)].reshape(-1)]).reshape(2, edge_index[:,torch.argwhere(torch.all(torch.isin(edge_index, torch.argwhere(split_data.train_mask).reshape(-1)), dim=0)).reshape(-1)].shape[1])\n",
    "edge_index_test = torch.tensor([test_mapping[i.item()] for i in edge_index[:,torch.argwhere(torch.all(torch.isin(edge_index, torch.argwhere(split_data.test_mask).reshape(-1)), dim=0)).reshape(-1)].reshape(-1)]).reshape(2, edge_index[:,torch.argwhere(torch.all(torch.isin(edge_index, torch.argwhere(split_data.test_mask).reshape(-1)), dim=0)).reshape(-1)].shape[1])\n",
    "final_train = Data(x=X_train, edge_index=edge_index_train, y=y_train)\n",
    "final_test = Data(x=X_test, edge_index=edge_index_test, y=y_test)"
   ]
  },
  {
   "cell_type": "code",
   "execution_count": 4,
   "id": "dd7d9b3f-5ad2-4287-91e7-062a68c95034",
   "metadata": {},
   "outputs": [
    {
     "name": "stdout",
     "output_type": "stream",
     "text": [
      "Mean Squared Error (MSE): 5.8637880269814495\n",
      "R-squared Score: 0.715635352019881\n"
     ]
    }
   ],
   "source": [
    "rf_regressor = RandomForestRegressor(n_estimators=100, random_state=42)\n",
    "rf_regressor.fit(final_train.x.numpy(), final_train.y.numpy().ravel())\n",
    "predictions = rf_regressor.predict(final_test.x.numpy())\n",
    "mse = mean_squared_error(final_test.y.numpy().ravel(), predictions)\n",
    "r2 = r2_score(final_test.y.numpy().ravel(), predictions)\n",
    "print(f'Mean Squared Error (MSE): {mse}')\n",
    "print(f'R-squared Score: {r2}')"
   ]
  },
  {
   "cell_type": "code",
   "execution_count": 8,
   "id": "60a31f97-67e5-419a-8b18-462bca64eeb9",
   "metadata": {},
   "outputs": [],
   "source": [
    "torch.manual_seed(42) # for replication\n",
    "device = torch.device(\"cuda\" if torch.cuda.is_available() else \"cpu\")\n",
    "X = torch.tensor(instances[['xloc', 'yloc', 'cell', 'orient']].values)\n",
    "y = torch.tensor(instances['routing_demand'].values)\n",
    "ei = from_scipy_sparse_matrix(A)\n",
    "edge_index = ei[0]\n",
    "data = Data(x=X, edge_index=edge_index, y=y)\n",
    "split = RandomNodeSplit(num_splits=1, num_val=0.0, num_test=0.3)\n",
    "split_data = split(data)\n",
    "train = torch.argwhere(split_data.train_mask).reshape(-1).to(device)\n",
    "test = torch.argwhere(split_data.test_mask).reshape(-1).to(device)\n",
    "train_mapping = {a.item():b for a,b in zip(train, range(train.shape[0]))}\n",
    "test_mapping = {a.item():b for a,b in zip(test, range(test.shape[0]))}\n",
    "X_train = split_data.x[split_data.train_mask].float().to(device)\n",
    "X_test = split_data.x[split_data.test_mask].float().to(device)\n",
    "y_train = split_data.y[split_data.train_mask].float().to(device)\n",
    "y_test = split_data.y[split_data.test_mask].float().to(device)\n",
    "edge_index_train = torch.tensor([train_mapping[i.item()] for i in edge_index[:,torch.argwhere(torch.all(torch.isin(edge_index, torch.argwhere(split_data.train_mask).reshape(-1)), dim=0)).reshape(-1)].reshape(-1)]).reshape(2, edge_index[:,torch.argwhere(torch.all(torch.isin(edge_index, torch.argwhere(split_data.train_mask).reshape(-1)), dim=0)).reshape(-1)].shape[1]).to(device)\n",
    "edge_index_test = torch.tensor([test_mapping[i.item()] for i in edge_index[:,torch.argwhere(torch.all(torch.isin(edge_index, torch.argwhere(split_data.test_mask).reshape(-1)), dim=0)).reshape(-1)].reshape(-1)]).reshape(2, edge_index[:,torch.argwhere(torch.all(torch.isin(edge_index, torch.argwhere(split_data.test_mask).reshape(-1)), dim=0)).reshape(-1)].shape[1]).to(device)\n",
    "final_train = Data(x=X_train, edge_index=edge_index_train, y=y_train).to(device)\n",
    "final_test = Data(x=X_test, edge_index=edge_index_test, y=y_test).to(device)"
   ]
  },
  {
   "cell_type": "code",
   "execution_count": 24,
   "id": "f215a8cc",
   "metadata": {},
   "outputs": [
    {
     "data": {
      "text/plain": [
       "tensor(25.6001)"
      ]
     },
     "execution_count": 24,
     "metadata": {},
     "output_type": "execute_result"
    }
   ],
   "source": [
    "final_train.y.mean()"
   ]
  },
  {
   "cell_type": "code",
   "execution_count": 17,
   "id": "7bf81653-ff63-4677-a948-6e8102b9bfc3",
   "metadata": {},
   "outputs": [],
   "source": [
    "class GCN(torch.nn.Module):\n",
    "    def __init__(self, num_features, num_hidden_layers, hidden_channels):\n",
    "        super(GCN, self).__init__()\n",
    "        self.gcn = GCNConv(num_features, hidden_channels)\n",
    "        self.hidden_layers = ModuleList([GCNConv(hidden_channels, hidden_channels) for _ in range(num_hidden_layers)])\n",
    "        self.out = Linear(hidden_channels, 1)\n",
    "\n",
    "    def forward(self, data):\n",
    "        x, edge_index = data.x, data.edge_index\n",
    "        x = F.relu(self.gcn(x, edge_index))\n",
    "        for layer in self.hidden_layers:\n",
    "            x = F.relu(layer(x, edge_index))\n",
    "        x = self.out(x)\n",
    "        return x \n",
    "    \n",
    "    def adjust_learning_rate(optimizer, epoch):\n",
    "        \"\"\"Sets the learning rate to the initial LR decayed by 10 every 30 epochs\"\"\"\n",
    "        lr = 0.01 * (0.1 ** (epoch // 30))\n",
    "        for param_group in optimizer.param_groups:\n",
    "            param_group['lr'] = lr"
   ]
  },
  {
   "cell_type": "code",
   "execution_count": 19,
   "id": "f0d8233a-0aaa-4cd1-a9c1-dc9a5eee746b",
   "metadata": {},
   "outputs": [],
   "source": [
    "def train(model, data):\n",
    "    data = data.to(device)\n",
    "    criterion = torch.nn.MSELoss()\n",
    "    optimizer = torch.optim.Adam(model.parameters(), lr=0.01)\n",
    "\n",
    "    model.train()\n",
    "    for epoch in range(200):\n",
    "        optimizer.zero_grad()\n",
    "        z = model(data)\n",
    "        z = z.to(device)\n",
    "        loss = criterion(z.squeeze(), data.y.float())\n",
    "        loss.backward()\n",
    "        optimizer.step()\n",
    "        # adjust_learning_rate(optimizer, epoch)\n",
    "\n",
    "        if epoch % 10 == 0:\n",
    "            print(f'Epoch {epoch:>3} | Loss: {loss:.2f}')\n",
    "\n",
    "def test_mse(model, test_data):\n",
    "    model.eval()\n",
    "    with torch.no_grad():\n",
    "        test_data = test_data.to(device)\n",
    "        predictions = model(test_data)\n",
    "        mse = F.mse_loss(predictions.squeeze(), test_data.y.float())\n",
    "    return mse.item()"
   ]
  },
  {
   "cell_type": "code",
   "execution_count": 23,
   "id": "2af675a4-132d-4242-a7b6-238988368acb",
   "metadata": {
    "scrolled": true
   },
   "outputs": [
    {
     "name": "stdout",
     "output_type": "stream",
     "text": [
      "Epoch   0 | Loss: 538598.50\n",
      "Epoch  10 | Loss: 403503.06\n",
      "Epoch  20 | Loss: 638.36\n",
      "Epoch  30 | Loss: 702.46\n",
      "Epoch  40 | Loss: 690.02\n",
      "Epoch  50 | Loss: 682.60\n",
      "Epoch  60 | Loss: 679.60\n",
      "Epoch  70 | Loss: 678.60\n",
      "Epoch  80 | Loss: 678.18\n",
      "Epoch  90 | Loss: 677.94\n",
      "Epoch 100 | Loss: 677.76\n",
      "Epoch 110 | Loss: 677.59\n",
      "Epoch 120 | Loss: 677.43\n",
      "Epoch 130 | Loss: 677.26\n",
      "Epoch 140 | Loss: 677.09\n",
      "Epoch 150 | Loss: 676.92\n",
      "Epoch 160 | Loss: 676.75\n",
      "Epoch 170 | Loss: 676.57\n",
      "Epoch 180 | Loss: 676.39\n",
      "Epoch 190 | Loss: 676.21\n",
      "684.3212280273438\n"
     ]
    }
   ],
   "source": [
    "one_layer_model = GCN(num_features=final_train.x.shape[1], num_hidden_layers=0, hidden_channels=768).to(device)\n",
    "train(one_layer_model, final_train)\n",
    "print(test_mse(one_layer_model, final_test))"
   ]
  },
  {
   "cell_type": "code",
   "execution_count": 21,
   "id": "e972476f-131f-4945-bd9e-231c61e69d08",
   "metadata": {
    "scrolled": true
   },
   "outputs": [
    {
     "name": "stdout",
     "output_type": "stream",
     "text": [
      "Epoch   0 | Loss: 9257.52\n"
     ]
    },
    {
     "ename": "KeyboardInterrupt",
     "evalue": "",
     "output_type": "error",
     "traceback": [
      "\u001b[1;31m---------------------------------------------------------------------------\u001b[0m",
      "\u001b[1;31mKeyboardInterrupt\u001b[0m                         Traceback (most recent call last)",
      "Cell \u001b[1;32mIn[21], line 2\u001b[0m\n\u001b[0;32m      1\u001b[0m two_layer_model \u001b[38;5;241m=\u001b[39m GCN(num_features\u001b[38;5;241m=\u001b[39mfinal_train\u001b[38;5;241m.\u001b[39mx\u001b[38;5;241m.\u001b[39mshape[\u001b[38;5;241m1\u001b[39m], num_hidden_layers\u001b[38;5;241m=\u001b[39m\u001b[38;5;241m4\u001b[39m, hidden_channels\u001b[38;5;241m=\u001b[39m\u001b[38;5;241m768\u001b[39m)\u001b[38;5;241m.\u001b[39mto(device)\n\u001b[1;32m----> 2\u001b[0m \u001b[43mtrain\u001b[49m\u001b[43m(\u001b[49m\u001b[43mtwo_layer_model\u001b[49m\u001b[43m,\u001b[49m\u001b[43m \u001b[49m\u001b[43mfinal_train\u001b[49m\u001b[43m)\u001b[49m\n\u001b[0;32m      3\u001b[0m \u001b[38;5;28mprint\u001b[39m(test_mse(two_layer_model, final_test))\n",
      "Cell \u001b[1;32mIn[19], line 9\u001b[0m, in \u001b[0;36mtrain\u001b[1;34m(model, data)\u001b[0m\n\u001b[0;32m      7\u001b[0m \u001b[38;5;28;01mfor\u001b[39;00m epoch \u001b[38;5;129;01min\u001b[39;00m \u001b[38;5;28mrange\u001b[39m(\u001b[38;5;241m200\u001b[39m):\n\u001b[0;32m      8\u001b[0m     optimizer\u001b[38;5;241m.\u001b[39mzero_grad()\n\u001b[1;32m----> 9\u001b[0m     z \u001b[38;5;241m=\u001b[39m \u001b[43mmodel\u001b[49m\u001b[43m(\u001b[49m\u001b[43mdata\u001b[49m\u001b[43m)\u001b[49m\n\u001b[0;32m     10\u001b[0m     z \u001b[38;5;241m=\u001b[39m z\u001b[38;5;241m.\u001b[39mto(device)\n\u001b[0;32m     11\u001b[0m     loss \u001b[38;5;241m=\u001b[39m criterion(z\u001b[38;5;241m.\u001b[39msqueeze(), data\u001b[38;5;241m.\u001b[39my\u001b[38;5;241m.\u001b[39mfloat())\n",
      "File \u001b[1;32mc:\\Users\\spenc\\dev\\venv\\dsc180\\Lib\\site-packages\\torch\\nn\\modules\\module.py:1511\u001b[0m, in \u001b[0;36mModule._wrapped_call_impl\u001b[1;34m(self, *args, **kwargs)\u001b[0m\n\u001b[0;32m   1509\u001b[0m     \u001b[38;5;28;01mreturn\u001b[39;00m \u001b[38;5;28mself\u001b[39m\u001b[38;5;241m.\u001b[39m_compiled_call_impl(\u001b[38;5;241m*\u001b[39margs, \u001b[38;5;241m*\u001b[39m\u001b[38;5;241m*\u001b[39mkwargs)  \u001b[38;5;66;03m# type: ignore[misc]\u001b[39;00m\n\u001b[0;32m   1510\u001b[0m \u001b[38;5;28;01melse\u001b[39;00m:\n\u001b[1;32m-> 1511\u001b[0m     \u001b[38;5;28;01mreturn\u001b[39;00m \u001b[38;5;28;43mself\u001b[39;49m\u001b[38;5;241;43m.\u001b[39;49m\u001b[43m_call_impl\u001b[49m\u001b[43m(\u001b[49m\u001b[38;5;241;43m*\u001b[39;49m\u001b[43margs\u001b[49m\u001b[43m,\u001b[49m\u001b[43m \u001b[49m\u001b[38;5;241;43m*\u001b[39;49m\u001b[38;5;241;43m*\u001b[39;49m\u001b[43mkwargs\u001b[49m\u001b[43m)\u001b[49m\n",
      "File \u001b[1;32mc:\\Users\\spenc\\dev\\venv\\dsc180\\Lib\\site-packages\\torch\\nn\\modules\\module.py:1520\u001b[0m, in \u001b[0;36mModule._call_impl\u001b[1;34m(self, *args, **kwargs)\u001b[0m\n\u001b[0;32m   1515\u001b[0m \u001b[38;5;66;03m# If we don't have any hooks, we want to skip the rest of the logic in\u001b[39;00m\n\u001b[0;32m   1516\u001b[0m \u001b[38;5;66;03m# this function, and just call forward.\u001b[39;00m\n\u001b[0;32m   1517\u001b[0m \u001b[38;5;28;01mif\u001b[39;00m \u001b[38;5;129;01mnot\u001b[39;00m (\u001b[38;5;28mself\u001b[39m\u001b[38;5;241m.\u001b[39m_backward_hooks \u001b[38;5;129;01mor\u001b[39;00m \u001b[38;5;28mself\u001b[39m\u001b[38;5;241m.\u001b[39m_backward_pre_hooks \u001b[38;5;129;01mor\u001b[39;00m \u001b[38;5;28mself\u001b[39m\u001b[38;5;241m.\u001b[39m_forward_hooks \u001b[38;5;129;01mor\u001b[39;00m \u001b[38;5;28mself\u001b[39m\u001b[38;5;241m.\u001b[39m_forward_pre_hooks\n\u001b[0;32m   1518\u001b[0m         \u001b[38;5;129;01mor\u001b[39;00m _global_backward_pre_hooks \u001b[38;5;129;01mor\u001b[39;00m _global_backward_hooks\n\u001b[0;32m   1519\u001b[0m         \u001b[38;5;129;01mor\u001b[39;00m _global_forward_hooks \u001b[38;5;129;01mor\u001b[39;00m _global_forward_pre_hooks):\n\u001b[1;32m-> 1520\u001b[0m     \u001b[38;5;28;01mreturn\u001b[39;00m \u001b[43mforward_call\u001b[49m\u001b[43m(\u001b[49m\u001b[38;5;241;43m*\u001b[39;49m\u001b[43margs\u001b[49m\u001b[43m,\u001b[49m\u001b[43m \u001b[49m\u001b[38;5;241;43m*\u001b[39;49m\u001b[38;5;241;43m*\u001b[39;49m\u001b[43mkwargs\u001b[49m\u001b[43m)\u001b[49m\n\u001b[0;32m   1522\u001b[0m \u001b[38;5;28;01mtry\u001b[39;00m:\n\u001b[0;32m   1523\u001b[0m     result \u001b[38;5;241m=\u001b[39m \u001b[38;5;28;01mNone\u001b[39;00m\n",
      "Cell \u001b[1;32mIn[17], line 12\u001b[0m, in \u001b[0;36mGCN.forward\u001b[1;34m(self, data)\u001b[0m\n\u001b[0;32m     10\u001b[0m x \u001b[38;5;241m=\u001b[39m F\u001b[38;5;241m.\u001b[39mrelu(\u001b[38;5;28mself\u001b[39m\u001b[38;5;241m.\u001b[39mgcn(x, edge_index))\n\u001b[0;32m     11\u001b[0m \u001b[38;5;28;01mfor\u001b[39;00m layer \u001b[38;5;129;01min\u001b[39;00m \u001b[38;5;28mself\u001b[39m\u001b[38;5;241m.\u001b[39mhidden_layers:\n\u001b[1;32m---> 12\u001b[0m     x \u001b[38;5;241m=\u001b[39m F\u001b[38;5;241m.\u001b[39mrelu(\u001b[43mlayer\u001b[49m\u001b[43m(\u001b[49m\u001b[43mx\u001b[49m\u001b[43m,\u001b[49m\u001b[43m \u001b[49m\u001b[43medge_index\u001b[49m\u001b[43m)\u001b[49m)\n\u001b[0;32m     13\u001b[0m x \u001b[38;5;241m=\u001b[39m \u001b[38;5;28mself\u001b[39m\u001b[38;5;241m.\u001b[39mout(x)\n\u001b[0;32m     14\u001b[0m \u001b[38;5;28;01mreturn\u001b[39;00m x\n",
      "File \u001b[1;32mc:\\Users\\spenc\\dev\\venv\\dsc180\\Lib\\site-packages\\torch\\nn\\modules\\module.py:1511\u001b[0m, in \u001b[0;36mModule._wrapped_call_impl\u001b[1;34m(self, *args, **kwargs)\u001b[0m\n\u001b[0;32m   1509\u001b[0m     \u001b[38;5;28;01mreturn\u001b[39;00m \u001b[38;5;28mself\u001b[39m\u001b[38;5;241m.\u001b[39m_compiled_call_impl(\u001b[38;5;241m*\u001b[39margs, \u001b[38;5;241m*\u001b[39m\u001b[38;5;241m*\u001b[39mkwargs)  \u001b[38;5;66;03m# type: ignore[misc]\u001b[39;00m\n\u001b[0;32m   1510\u001b[0m \u001b[38;5;28;01melse\u001b[39;00m:\n\u001b[1;32m-> 1511\u001b[0m     \u001b[38;5;28;01mreturn\u001b[39;00m \u001b[38;5;28;43mself\u001b[39;49m\u001b[38;5;241;43m.\u001b[39;49m\u001b[43m_call_impl\u001b[49m\u001b[43m(\u001b[49m\u001b[38;5;241;43m*\u001b[39;49m\u001b[43margs\u001b[49m\u001b[43m,\u001b[49m\u001b[43m \u001b[49m\u001b[38;5;241;43m*\u001b[39;49m\u001b[38;5;241;43m*\u001b[39;49m\u001b[43mkwargs\u001b[49m\u001b[43m)\u001b[49m\n",
      "File \u001b[1;32mc:\\Users\\spenc\\dev\\venv\\dsc180\\Lib\\site-packages\\torch\\nn\\modules\\module.py:1520\u001b[0m, in \u001b[0;36mModule._call_impl\u001b[1;34m(self, *args, **kwargs)\u001b[0m\n\u001b[0;32m   1515\u001b[0m \u001b[38;5;66;03m# If we don't have any hooks, we want to skip the rest of the logic in\u001b[39;00m\n\u001b[0;32m   1516\u001b[0m \u001b[38;5;66;03m# this function, and just call forward.\u001b[39;00m\n\u001b[0;32m   1517\u001b[0m \u001b[38;5;28;01mif\u001b[39;00m \u001b[38;5;129;01mnot\u001b[39;00m (\u001b[38;5;28mself\u001b[39m\u001b[38;5;241m.\u001b[39m_backward_hooks \u001b[38;5;129;01mor\u001b[39;00m \u001b[38;5;28mself\u001b[39m\u001b[38;5;241m.\u001b[39m_backward_pre_hooks \u001b[38;5;129;01mor\u001b[39;00m \u001b[38;5;28mself\u001b[39m\u001b[38;5;241m.\u001b[39m_forward_hooks \u001b[38;5;129;01mor\u001b[39;00m \u001b[38;5;28mself\u001b[39m\u001b[38;5;241m.\u001b[39m_forward_pre_hooks\n\u001b[0;32m   1518\u001b[0m         \u001b[38;5;129;01mor\u001b[39;00m _global_backward_pre_hooks \u001b[38;5;129;01mor\u001b[39;00m _global_backward_hooks\n\u001b[0;32m   1519\u001b[0m         \u001b[38;5;129;01mor\u001b[39;00m _global_forward_hooks \u001b[38;5;129;01mor\u001b[39;00m _global_forward_pre_hooks):\n\u001b[1;32m-> 1520\u001b[0m     \u001b[38;5;28;01mreturn\u001b[39;00m \u001b[43mforward_call\u001b[49m\u001b[43m(\u001b[49m\u001b[38;5;241;43m*\u001b[39;49m\u001b[43margs\u001b[49m\u001b[43m,\u001b[49m\u001b[43m \u001b[49m\u001b[38;5;241;43m*\u001b[39;49m\u001b[38;5;241;43m*\u001b[39;49m\u001b[43mkwargs\u001b[49m\u001b[43m)\u001b[49m\n\u001b[0;32m   1522\u001b[0m \u001b[38;5;28;01mtry\u001b[39;00m:\n\u001b[0;32m   1523\u001b[0m     result \u001b[38;5;241m=\u001b[39m \u001b[38;5;28;01mNone\u001b[39;00m\n",
      "File \u001b[1;32mc:\\Users\\spenc\\dev\\venv\\dsc180\\Lib\\site-packages\\torch_geometric\\nn\\conv\\gcn_conv.py:241\u001b[0m, in \u001b[0;36mGCNConv.forward\u001b[1;34m(self, x, edge_index, edge_weight)\u001b[0m\n\u001b[0;32m    238\u001b[0m         \u001b[38;5;28;01melse\u001b[39;00m:\n\u001b[0;32m    239\u001b[0m             edge_index \u001b[38;5;241m=\u001b[39m cache\n\u001b[1;32m--> 241\u001b[0m x \u001b[38;5;241m=\u001b[39m \u001b[38;5;28;43mself\u001b[39;49m\u001b[38;5;241;43m.\u001b[39;49m\u001b[43mlin\u001b[49m\u001b[43m(\u001b[49m\u001b[43mx\u001b[49m\u001b[43m)\u001b[49m\n\u001b[0;32m    243\u001b[0m \u001b[38;5;66;03m# propagate_type: (x: Tensor, edge_weight: OptTensor)\u001b[39;00m\n\u001b[0;32m    244\u001b[0m out \u001b[38;5;241m=\u001b[39m \u001b[38;5;28mself\u001b[39m\u001b[38;5;241m.\u001b[39mpropagate(edge_index, x\u001b[38;5;241m=\u001b[39mx, edge_weight\u001b[38;5;241m=\u001b[39medge_weight,\n\u001b[0;32m    245\u001b[0m                      size\u001b[38;5;241m=\u001b[39m\u001b[38;5;28;01mNone\u001b[39;00m)\n",
      "File \u001b[1;32mc:\\Users\\spenc\\dev\\venv\\dsc180\\Lib\\site-packages\\torch\\nn\\modules\\module.py:1511\u001b[0m, in \u001b[0;36mModule._wrapped_call_impl\u001b[1;34m(self, *args, **kwargs)\u001b[0m\n\u001b[0;32m   1509\u001b[0m     \u001b[38;5;28;01mreturn\u001b[39;00m \u001b[38;5;28mself\u001b[39m\u001b[38;5;241m.\u001b[39m_compiled_call_impl(\u001b[38;5;241m*\u001b[39margs, \u001b[38;5;241m*\u001b[39m\u001b[38;5;241m*\u001b[39mkwargs)  \u001b[38;5;66;03m# type: ignore[misc]\u001b[39;00m\n\u001b[0;32m   1510\u001b[0m \u001b[38;5;28;01melse\u001b[39;00m:\n\u001b[1;32m-> 1511\u001b[0m     \u001b[38;5;28;01mreturn\u001b[39;00m \u001b[38;5;28;43mself\u001b[39;49m\u001b[38;5;241;43m.\u001b[39;49m\u001b[43m_call_impl\u001b[49m\u001b[43m(\u001b[49m\u001b[38;5;241;43m*\u001b[39;49m\u001b[43margs\u001b[49m\u001b[43m,\u001b[49m\u001b[43m \u001b[49m\u001b[38;5;241;43m*\u001b[39;49m\u001b[38;5;241;43m*\u001b[39;49m\u001b[43mkwargs\u001b[49m\u001b[43m)\u001b[49m\n",
      "File \u001b[1;32mc:\\Users\\spenc\\dev\\venv\\dsc180\\Lib\\site-packages\\torch\\nn\\modules\\module.py:1520\u001b[0m, in \u001b[0;36mModule._call_impl\u001b[1;34m(self, *args, **kwargs)\u001b[0m\n\u001b[0;32m   1515\u001b[0m \u001b[38;5;66;03m# If we don't have any hooks, we want to skip the rest of the logic in\u001b[39;00m\n\u001b[0;32m   1516\u001b[0m \u001b[38;5;66;03m# this function, and just call forward.\u001b[39;00m\n\u001b[0;32m   1517\u001b[0m \u001b[38;5;28;01mif\u001b[39;00m \u001b[38;5;129;01mnot\u001b[39;00m (\u001b[38;5;28mself\u001b[39m\u001b[38;5;241m.\u001b[39m_backward_hooks \u001b[38;5;129;01mor\u001b[39;00m \u001b[38;5;28mself\u001b[39m\u001b[38;5;241m.\u001b[39m_backward_pre_hooks \u001b[38;5;129;01mor\u001b[39;00m \u001b[38;5;28mself\u001b[39m\u001b[38;5;241m.\u001b[39m_forward_hooks \u001b[38;5;129;01mor\u001b[39;00m \u001b[38;5;28mself\u001b[39m\u001b[38;5;241m.\u001b[39m_forward_pre_hooks\n\u001b[0;32m   1518\u001b[0m         \u001b[38;5;129;01mor\u001b[39;00m _global_backward_pre_hooks \u001b[38;5;129;01mor\u001b[39;00m _global_backward_hooks\n\u001b[0;32m   1519\u001b[0m         \u001b[38;5;129;01mor\u001b[39;00m _global_forward_hooks \u001b[38;5;129;01mor\u001b[39;00m _global_forward_pre_hooks):\n\u001b[1;32m-> 1520\u001b[0m     \u001b[38;5;28;01mreturn\u001b[39;00m \u001b[43mforward_call\u001b[49m\u001b[43m(\u001b[49m\u001b[38;5;241;43m*\u001b[39;49m\u001b[43margs\u001b[49m\u001b[43m,\u001b[49m\u001b[43m \u001b[49m\u001b[38;5;241;43m*\u001b[39;49m\u001b[38;5;241;43m*\u001b[39;49m\u001b[43mkwargs\u001b[49m\u001b[43m)\u001b[49m\n\u001b[0;32m   1522\u001b[0m \u001b[38;5;28;01mtry\u001b[39;00m:\n\u001b[0;32m   1523\u001b[0m     result \u001b[38;5;241m=\u001b[39m \u001b[38;5;28;01mNone\u001b[39;00m\n",
      "File \u001b[1;32mc:\\Users\\spenc\\dev\\venv\\dsc180\\Lib\\site-packages\\torch_geometric\\nn\\dense\\linear.py:130\u001b[0m, in \u001b[0;36mLinear.forward\u001b[1;34m(self, x)\u001b[0m\n\u001b[0;32m    125\u001b[0m \u001b[38;5;28;01mdef\u001b[39;00m \u001b[38;5;21mforward\u001b[39m(\u001b[38;5;28mself\u001b[39m, x: Tensor) \u001b[38;5;241m-\u001b[39m\u001b[38;5;241m>\u001b[39m Tensor:\n\u001b[0;32m    126\u001b[0m \u001b[38;5;250m    \u001b[39m\u001b[38;5;124mr\u001b[39m\u001b[38;5;124;03m\"\"\"\u001b[39;00m\n\u001b[0;32m    127\u001b[0m \u001b[38;5;124;03m    Args:\u001b[39;00m\n\u001b[0;32m    128\u001b[0m \u001b[38;5;124;03m        x (torch.Tensor): The input features.\u001b[39;00m\n\u001b[0;32m    129\u001b[0m \u001b[38;5;124;03m    \"\"\"\u001b[39;00m\n\u001b[1;32m--> 130\u001b[0m     \u001b[38;5;28;01mreturn\u001b[39;00m \u001b[43mF\u001b[49m\u001b[38;5;241;43m.\u001b[39;49m\u001b[43mlinear\u001b[49m\u001b[43m(\u001b[49m\u001b[43mx\u001b[49m\u001b[43m,\u001b[49m\u001b[43m \u001b[49m\u001b[38;5;28;43mself\u001b[39;49m\u001b[38;5;241;43m.\u001b[39;49m\u001b[43mweight\u001b[49m\u001b[43m,\u001b[49m\u001b[43m \u001b[49m\u001b[38;5;28;43mself\u001b[39;49m\u001b[38;5;241;43m.\u001b[39;49m\u001b[43mbias\u001b[49m\u001b[43m)\u001b[49m\n",
      "\u001b[1;31mKeyboardInterrupt\u001b[0m: "
     ]
    }
   ],
   "source": [
    "two_layer_model = GCN(num_features=final_train.x.shape[1], num_hidden_layers=4, hidden_channels=768).to(device)\n",
    "train(two_layer_model, final_train)\n",
    "print(test_mse(two_layer_model, final_test))"
   ]
  },
  {
   "cell_type": "code",
   "execution_count": 11,
   "id": "2014165e-8b30-44c4-97df-57791d5237b4",
   "metadata": {
    "scrolled": true
   },
   "outputs": [
    {
     "name": "stdout",
     "output_type": "stream",
     "text": [
      "Epoch   0 | Loss: 75017.96\n",
      "Epoch  10 | Loss: 19329.09\n",
      "Epoch  20 | Loss: 222.28\n",
      "Epoch  30 | Loss: 459.79\n",
      "Epoch  40 | Loss: 79.16\n",
      "Epoch  50 | Loss: 50.73\n",
      "Epoch  60 | Loss: 57.64\n",
      "Epoch  70 | Loss: 54.74\n",
      "Epoch  80 | Loss: 51.00\n",
      "Epoch  90 | Loss: 49.64\n",
      "Epoch 100 | Loss: 49.40\n",
      "Epoch 110 | Loss: 49.19\n",
      "Epoch 120 | Loss: 48.93\n",
      "Epoch 130 | Loss: 48.64\n",
      "Epoch 140 | Loss: 48.33\n",
      "Epoch 150 | Loss: 47.98\n",
      "Epoch 160 | Loss: 47.59\n",
      "Epoch 170 | Loss: 47.16\n",
      "Epoch 180 | Loss: 46.68\n",
      "Epoch 190 | Loss: 46.15\n",
      "36.135929107666016\n"
     ]
    }
   ],
   "source": [
    "three_layer_model = GCN(num_features=final_train.x.shape[1], num_hidden_layers=2, hidden_channels=768).to(device)\n",
    "train(three_layer_model, final_train)\n",
    "print(test_mse(three_layer_model, final_test))"
   ]
  },
  {
   "cell_type": "code",
   "execution_count": 12,
   "id": "a655a4f4-2f81-480f-86b5-bbd47dbf20bc",
   "metadata": {},
   "outputs": [],
   "source": [
    "def baseline_model_pytorch(data):\n",
    "    device = \"cuda\" if torch.cuda.is_available() else \"cpu\"  # Automatically choose the device\n",
    "    data = data.to(device)  # Ensure the data is on the correct device\n",
    "    train_mean = data.y.float().mean()  # Calculate mean over all data.y\n",
    "    baseline_predictions = torch.full_like(data.y, train_mean, device=device)  # Ensure this tensor is on GPU\n",
    "    mse = F.mse_loss(baseline_predictions, data.y.float())  # Calculate MSE over all data.y\n",
    "    return mse.item()"
   ]
  },
  {
   "cell_type": "code",
   "execution_count": 13,
   "id": "fedcf919-7a16-411e-b94f-d12716d4ff8f",
   "metadata": {},
   "outputs": [
    {
     "name": "stdout",
     "output_type": "stream",
     "text": [
      "Baseline Training MSE: 20.35999870300293\n",
      "Baseline Test MSE: 20.62066650390625\n"
     ]
    }
   ],
   "source": [
    "train_mse_baseline = baseline_model_pytorch(final_train)\n",
    "test_mse_baseline = baseline_model_pytorch(final_test)\n",
    "\n",
    "print(f\"Baseline Training MSE: {train_mse_baseline}\")\n",
    "print(f\"Baseline Test MSE: {test_mse_baseline}\")"
   ]
  },
  {
   "cell_type": "code",
   "execution_count": null,
   "id": "84eab16f-69f0-4d85-aad1-c1b122d45304",
   "metadata": {},
   "outputs": [],
   "source": []
  }
 ],
 "metadata": {
  "kernelspec": {
   "display_name": "Python 3 (ipykernel)",
   "language": "python",
   "name": "python3"
  },
  "language_info": {
   "codemirror_mode": {
    "name": "ipython",
    "version": 3
   },
   "file_extension": ".py",
   "mimetype": "text/x-python",
   "name": "python",
   "nbconvert_exporter": "python",
   "pygments_lexer": "ipython3",
   "version": "3.12.1"
  }
 },
 "nbformat": 4,
 "nbformat_minor": 5
}
